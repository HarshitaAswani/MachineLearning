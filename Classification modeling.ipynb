{
 "cells": [
  {
   "cell_type": "code",
   "execution_count": 1,
   "id": "d9035c80",
   "metadata": {},
   "outputs": [],
   "source": [
    "# import necessary libraries\n",
    "import pandas as pd\n",
    "import numpy as np\n",
    "import matplotlib.pyplot as plt\n",
    "import seaborn as sns\n",
    "from sklearn.preprocessing import LabelEncoder\n",
    "from sklearn.model_selection import train_test_split, cross_val_score\n",
    "import lazypredict\n",
    "from lazypredict.Supervised import LazyClassifier\n",
    "from sklearn.ensemble import RandomForestClassifier, BaggingClassifier, ExtraTreesClassifier\n",
    "from sklearn.tree import ExtraTreeClassifier\n",
    "from sklearn.metrics import classification_report, confusion_matrix"
   ]
  },
  {
   "cell_type": "code",
   "execution_count": 4,
   "id": "598846ff",
   "metadata": {},
   "outputs": [],
   "source": [
    "#load dataset\n",
    "df=pd.read_excel(\"clust.xlsx\")"
   ]
  },
  {
   "cell_type": "code",
   "execution_count": 5,
   "id": "f9ede9d6",
   "metadata": {},
   "outputs": [
    {
     "data": {
      "text/html": [
       "<div>\n",
       "<style scoped>\n",
       "    .dataframe tbody tr th:only-of-type {\n",
       "        vertical-align: middle;\n",
       "    }\n",
       "\n",
       "    .dataframe tbody tr th {\n",
       "        vertical-align: top;\n",
       "    }\n",
       "\n",
       "    .dataframe thead th {\n",
       "        text-align: right;\n",
       "    }\n",
       "</style>\n",
       "<table border=\"1\" class=\"dataframe\">\n",
       "  <thead>\n",
       "    <tr style=\"text-align: right;\">\n",
       "      <th></th>\n",
       "      <th>Plant</th>\n",
       "      <th>CO2 Absorption Rate</th>\n",
       "      <th>Growth Habit</th>\n",
       "      <th>Leaf Surface Area</th>\n",
       "      <th>Leaf Structure</th>\n",
       "      <th>Tolerance to Pollution</th>\n",
       "      <th>Growth Rate</th>\n",
       "    </tr>\n",
       "  </thead>\n",
       "  <tbody>\n",
       "    <tr>\n",
       "      <th>0</th>\n",
       "      <td>Agave</td>\n",
       "      <td>9</td>\n",
       "      <td>Succulent</td>\n",
       "      <td>Moderate</td>\n",
       "      <td>Thick</td>\n",
       "      <td>Moderate</td>\n",
       "      <td>Moderate</td>\n",
       "    </tr>\n",
       "    <tr>\n",
       "      <th>1</th>\n",
       "      <td>Common Ferns</td>\n",
       "      <td>7</td>\n",
       "      <td>Fern</td>\n",
       "      <td>High</td>\n",
       "      <td>Thin</td>\n",
       "      <td>High</td>\n",
       "      <td>Slow</td>\n",
       "    </tr>\n",
       "    <tr>\n",
       "      <th>2</th>\n",
       "      <td>Snake Plant</td>\n",
       "      <td>3</td>\n",
       "      <td>Succulent</td>\n",
       "      <td>Low</td>\n",
       "      <td>Thick</td>\n",
       "      <td>High</td>\n",
       "      <td>Slow</td>\n",
       "    </tr>\n",
       "    <tr>\n",
       "      <th>3</th>\n",
       "      <td>Peace Lily</td>\n",
       "      <td>1</td>\n",
       "      <td>Herbaceous</td>\n",
       "      <td>Low</td>\n",
       "      <td>Thin</td>\n",
       "      <td>Moderate</td>\n",
       "      <td>Slow</td>\n",
       "    </tr>\n",
       "    <tr>\n",
       "      <th>4</th>\n",
       "      <td>Spider Plant</td>\n",
       "      <td>3</td>\n",
       "      <td>Herbaceous</td>\n",
       "      <td>Moderate</td>\n",
       "      <td>Thin</td>\n",
       "      <td>High</td>\n",
       "      <td>Moderate</td>\n",
       "    </tr>\n",
       "  </tbody>\n",
       "</table>\n",
       "</div>"
      ],
      "text/plain": [
       "          Plant  CO2 Absorption Rate Growth Habit Leaf Surface Area  \\\n",
       "0         Agave                    9    Succulent          Moderate   \n",
       "1  Common Ferns                    7         Fern              High   \n",
       "2   Snake Plant                    3    Succulent               Low   \n",
       "3    Peace Lily                    1   Herbaceous               Low   \n",
       "4  Spider Plant                    3   Herbaceous          Moderate   \n",
       "\n",
       "  Leaf Structure Tolerance to Pollution Growth Rate  \n",
       "0          Thick               Moderate    Moderate  \n",
       "1           Thin                   High        Slow  \n",
       "2          Thick                   High        Slow  \n",
       "3           Thin               Moderate        Slow  \n",
       "4           Thin                   High    Moderate  "
      ]
     },
     "execution_count": 5,
     "metadata": {},
     "output_type": "execute_result"
    }
   ],
   "source": [
    "#load first five rows\n",
    "df.head()"
   ]
  },
  {
   "cell_type": "code",
   "execution_count": 6,
   "id": "ed929e4b",
   "metadata": {
    "scrolled": true
   },
   "outputs": [
    {
     "data": {
      "text/html": [
       "<div>\n",
       "<style scoped>\n",
       "    .dataframe tbody tr th:only-of-type {\n",
       "        vertical-align: middle;\n",
       "    }\n",
       "\n",
       "    .dataframe tbody tr th {\n",
       "        vertical-align: top;\n",
       "    }\n",
       "\n",
       "    .dataframe thead th {\n",
       "        text-align: right;\n",
       "    }\n",
       "</style>\n",
       "<table border=\"1\" class=\"dataframe\">\n",
       "  <thead>\n",
       "    <tr style=\"text-align: right;\">\n",
       "      <th></th>\n",
       "      <th>Plant</th>\n",
       "      <th>CO2 Absorption Rate</th>\n",
       "      <th>Growth Habit</th>\n",
       "      <th>Leaf Surface Area</th>\n",
       "      <th>Leaf Structure</th>\n",
       "      <th>Tolerance to Pollution</th>\n",
       "      <th>Growth Rate</th>\n",
       "    </tr>\n",
       "  </thead>\n",
       "  <tbody>\n",
       "    <tr>\n",
       "      <th>99</th>\n",
       "      <td>Zebra Plant</td>\n",
       "      <td>2</td>\n",
       "      <td>Herbaceous</td>\n",
       "      <td>Low</td>\n",
       "      <td>Thin</td>\n",
       "      <td>High</td>\n",
       "      <td>Slow</td>\n",
       "    </tr>\n",
       "    <tr>\n",
       "      <th>100</th>\n",
       "      <td>Delphinium</td>\n",
       "      <td>4</td>\n",
       "      <td>Herbaceous</td>\n",
       "      <td>High</td>\n",
       "      <td>Thin</td>\n",
       "      <td>High</td>\n",
       "      <td>Moderate</td>\n",
       "    </tr>\n",
       "    <tr>\n",
       "      <th>101</th>\n",
       "      <td>Heather</td>\n",
       "      <td>3</td>\n",
       "      <td>Shrub</td>\n",
       "      <td>Low</td>\n",
       "      <td>Thin</td>\n",
       "      <td>Moderate</td>\n",
       "      <td>Slow</td>\n",
       "    </tr>\n",
       "    <tr>\n",
       "      <th>102</th>\n",
       "      <td>Baby Sun Rose</td>\n",
       "      <td>2</td>\n",
       "      <td>Herbaceous</td>\n",
       "      <td>Low</td>\n",
       "      <td>Thin</td>\n",
       "      <td>High</td>\n",
       "      <td>Slow</td>\n",
       "    </tr>\n",
       "    <tr>\n",
       "      <th>103</th>\n",
       "      <td>Cosmos</td>\n",
       "      <td>4</td>\n",
       "      <td>Herbaceous</td>\n",
       "      <td>High</td>\n",
       "      <td>Thin</td>\n",
       "      <td>High</td>\n",
       "      <td>Moderate</td>\n",
       "    </tr>\n",
       "  </tbody>\n",
       "</table>\n",
       "</div>"
      ],
      "text/plain": [
       "             Plant  CO2 Absorption Rate Growth Habit Leaf Surface Area  \\\n",
       "99     Zebra Plant                    2   Herbaceous               Low   \n",
       "100     Delphinium                    4   Herbaceous              High   \n",
       "101        Heather                    3        Shrub               Low   \n",
       "102  Baby Sun Rose                    2   Herbaceous               Low   \n",
       "103         Cosmos                    4   Herbaceous              High   \n",
       "\n",
       "    Leaf Structure Tolerance to Pollution Growth Rate  \n",
       "99            Thin                   High        Slow  \n",
       "100           Thin                   High    Moderate  \n",
       "101           Thin               Moderate        Slow  \n",
       "102           Thin                   High        Slow  \n",
       "103           Thin                   High    Moderate  "
      ]
     },
     "execution_count": 6,
     "metadata": {},
     "output_type": "execute_result"
    }
   ],
   "source": [
    "#load last five rows\n",
    "df.tail()"
   ]
  },
  {
   "cell_type": "code",
   "execution_count": 7,
   "id": "dcbf8707",
   "metadata": {},
   "outputs": [
    {
     "data": {
      "text/plain": [
       "(104, 7)"
      ]
     },
     "execution_count": 7,
     "metadata": {},
     "output_type": "execute_result"
    }
   ],
   "source": [
    "# rows, columns\n",
    "df.shape"
   ]
  },
  {
   "cell_type": "code",
   "execution_count": 8,
   "id": "763565ef",
   "metadata": {},
   "outputs": [
    {
     "data": {
      "text/plain": [
       "728"
      ]
     },
     "execution_count": 8,
     "metadata": {},
     "output_type": "execute_result"
    }
   ],
   "source": [
    "# rows * columns\n",
    "df.size"
   ]
  },
  {
   "cell_type": "code",
   "execution_count": 9,
   "id": "5764ed96",
   "metadata": {},
   "outputs": [
    {
     "data": {
      "text/plain": [
       "Index(['Plant', 'CO2 Absorption Rate', 'Growth Habit', 'Leaf Surface Area',\n",
       "       'Leaf Structure', 'Tolerance to Pollution', 'Growth Rate'],\n",
       "      dtype='object')"
      ]
     },
     "execution_count": 9,
     "metadata": {},
     "output_type": "execute_result"
    }
   ],
   "source": [
    "# columns names\n",
    "df.columns"
   ]
  },
  {
   "cell_type": "code",
   "execution_count": 10,
   "id": "db3fa6a9",
   "metadata": {},
   "outputs": [
    {
     "name": "stdout",
     "output_type": "stream",
     "text": [
      "<class 'pandas.core.frame.DataFrame'>\n",
      "RangeIndex: 104 entries, 0 to 103\n",
      "Data columns (total 7 columns):\n",
      " #   Column                  Non-Null Count  Dtype \n",
      "---  ------                  --------------  ----- \n",
      " 0   Plant                   104 non-null    object\n",
      " 1   CO2 Absorption Rate     104 non-null    int64 \n",
      " 2   Growth Habit            104 non-null    object\n",
      " 3   Leaf Surface Area       104 non-null    object\n",
      " 4   Leaf Structure          104 non-null    object\n",
      " 5   Tolerance to Pollution  104 non-null    object\n",
      " 6   Growth Rate             104 non-null    object\n",
      "dtypes: int64(1), object(6)\n",
      "memory usage: 5.8+ KB\n"
     ]
    }
   ],
   "source": [
    "# information about the data types of columns\n",
    "df.info()"
   ]
  },
  {
   "cell_type": "code",
   "execution_count": 11,
   "id": "fc212a2f",
   "metadata": {},
   "outputs": [
    {
     "data": {
      "text/plain": [
       "Plant                     0\n",
       "CO2 Absorption Rate       0\n",
       "Growth Habit              0\n",
       "Leaf Surface Area         0\n",
       "Leaf Structure            0\n",
       "Tolerance to Pollution    0\n",
       "Growth Rate               0\n",
       "dtype: int64"
      ]
     },
     "execution_count": 11,
     "metadata": {},
     "output_type": "execute_result"
    }
   ],
   "source": [
    "# checking null values\n",
    "df.isnull().sum()"
   ]
  },
  {
   "cell_type": "code",
   "execution_count": 12,
   "id": "5dbc9e1f",
   "metadata": {},
   "outputs": [
    {
     "data": {
      "text/plain": [
       "False    102\n",
       "True       2\n",
       "dtype: int64"
      ]
     },
     "execution_count": 12,
     "metadata": {},
     "output_type": "execute_result"
    }
   ],
   "source": [
    "# checking duplicate values\n",
    "df.duplicated().value_counts()"
   ]
  },
  {
   "cell_type": "code",
   "execution_count": 14,
   "id": "f8386ee4",
   "metadata": {},
   "outputs": [],
   "source": [
    "# dropping duplicate values\n",
    "df.drop_duplicates(inplace=True)"
   ]
  },
  {
   "cell_type": "code",
   "execution_count": 16,
   "id": "9c07f75d",
   "metadata": {},
   "outputs": [
    {
     "data": {
      "text/plain": [
       "(102, 7)"
      ]
     },
     "execution_count": 16,
     "metadata": {},
     "output_type": "execute_result"
    }
   ],
   "source": [
    "# confirming non-duplicates\n",
    "df.shape"
   ]
  },
  {
   "cell_type": "code",
   "execution_count": 17,
   "id": "6ebe9b9b",
   "metadata": {},
   "outputs": [
    {
     "data": {
      "image/png": "[encoded data removed]",
      "text/plain": [
       "<Figure size 640x480 with 1 Axes>"
      ]
     },
     "metadata": {},
     "output_type": "display_data"
    }
   ],
   "source": [
    "# checking outliers\n",
    "df.boxplot('CO2 Absorption Rate')\n",
    "plt.title('Box plot of Numerical Columns')\n",
    "plt.show()"
   ]
  },
  {
   "cell_type": "code",
   "execution_count": 19,
   "id": "0d7f8c45",
   "metadata": {},
   "outputs": [],
   "source": [
    "# removing outliers\n",
    "df = df[(df['CO2 Absorption Rate'] >= 2) & (df['CO2 Absorption Rate'] <= 5)]"
   ]
  },
  {
   "cell_type": "code",
   "execution_count": 20,
   "id": "d8a5fd48",
   "metadata": {},
   "outputs": [
    {
     "data": {
      "image/png": "[encoded data removed]",
      "text/plain": [
       "<Figure size 640x480 with 1 Axes>"
      ]
     },
     "metadata": {},
     "output_type": "display_data"
    }
   ],
   "source": [
    "# confirming outliers removal\n",
    "df.boxplot('CO2 Absorption Rate')\n",
    "plt.title('Box plot of Numerical Columns')\n",
    "plt.show()"
   ]
  },
  {
   "cell_type": "code",
   "execution_count": 21,
   "id": "c959350c",
   "metadata": {},
   "outputs": [
    {
     "data": {
      "text/html": [
       "<div>\n",
       "<style scoped>\n",
       "    .dataframe tbody tr th:only-of-type {\n",
       "        vertical-align: middle;\n",
       "    }\n",
       "\n",
       "    .dataframe tbody tr th {\n",
       "        vertical-align: top;\n",
       "    }\n",
       "\n",
       "    .dataframe thead th {\n",
       "        text-align: right;\n",
       "    }\n",
       "</style>\n",
       "<table border=\"1\" class=\"dataframe\">\n",
       "  <thead>\n",
       "    <tr style=\"text-align: right;\">\n",
       "      <th></th>\n",
       "      <th>CO2 Absorption Rate</th>\n",
       "    </tr>\n",
       "  </thead>\n",
       "  <tbody>\n",
       "    <tr>\n",
       "      <th>count</th>\n",
       "      <td>86.000000</td>\n",
       "    </tr>\n",
       "    <tr>\n",
       "      <th>mean</th>\n",
       "      <td>3.313953</td>\n",
       "    </tr>\n",
       "    <tr>\n",
       "      <th>std</th>\n",
       "      <td>0.973310</td>\n",
       "    </tr>\n",
       "    <tr>\n",
       "      <th>min</th>\n",
       "      <td>2.000000</td>\n",
       "    </tr>\n",
       "    <tr>\n",
       "      <th>25%</th>\n",
       "      <td>3.000000</td>\n",
       "    </tr>\n",
       "    <tr>\n",
       "      <th>50%</th>\n",
       "      <td>3.000000</td>\n",
       "    </tr>\n",
       "    <tr>\n",
       "      <th>75%</th>\n",
       "      <td>4.000000</td>\n",
       "    </tr>\n",
       "    <tr>\n",
       "      <th>max</th>\n",
       "      <td>5.000000</td>\n",
       "    </tr>\n",
       "  </tbody>\n",
       "</table>\n",
       "</div>"
      ],
      "text/plain": [
       "       CO2 Absorption Rate\n",
       "count            86.000000\n",
       "mean              3.313953\n",
       "std               0.973310\n",
       "min               2.000000\n",
       "25%               3.000000\n",
       "50%               3.000000\n",
       "75%               4.000000\n",
       "max               5.000000"
      ]
     },
     "execution_count": 21,
     "metadata": {},
     "output_type": "execute_result"
    }
   ],
   "source": [
    "# get statistical summary\n",
    "df.describe()"
   ]
  },
  {
   "cell_type": "code",
   "execution_count": 22,
   "id": "3d7c5f58",
   "metadata": {},
   "outputs": [
    {
     "data": {
      "text/plain": [
       "Plant                     86\n",
       "CO2 Absorption Rate        4\n",
       "Growth Habit               8\n",
       "Leaf Surface Area          3\n",
       "Leaf Structure             3\n",
       "Tolerance to Pollution     2\n",
       "Growth Rate                3\n",
       "dtype: int64"
      ]
     },
     "execution_count": 22,
     "metadata": {},
     "output_type": "execute_result"
    }
   ],
   "source": [
    "# checking unique values in each column\n",
    "df.nunique()"
   ]
  },
  {
   "cell_type": "code",
   "execution_count": 26,
   "id": "09e04547",
   "metadata": {},
   "outputs": [],
   "source": [
    "# resetting the numbering of index\n",
    "df.reset_index(drop=True, inplace=True)"
   ]
  },
  {
   "cell_type": "code",
   "execution_count": 34,
   "id": "8cb70c92",
   "metadata": {},
   "outputs": [
    {
     "data": {
      "image/png": "[encoded data removed]",
      "text/plain": [
       "<Figure size 640x480 with 1 Axes>"
      ]
     },
     "metadata": {},
     "output_type": "display_data"
    }
   ],
   "source": [
    "# visualizing co2 absorption rate\n",
    "df['CO2 Absorption Rate'].hist()\n",
    "plt.show()"
   ]
  },
  {
   "cell_type": "code",
   "execution_count": 36,
   "id": "40ddc979",
   "metadata": {
    "scrolled": false
   },
   "outputs": [
    {
     "name": "stdout",
     "output_type": "stream",
     "text": [
      "\n",
      "Unique values and their frequencies for Growth Habit :\n",
      "Herbaceous       65\n",
      "Shrub             7\n",
      "Herb              7\n",
      "Climbing Vine     3\n",
      "Succulent         1\n",
      "Fern              1\n",
      "Tree              1\n",
      "Moss              1\n",
      "Name: Growth Habit, dtype: int64\n"
     ]
    },
    {
     "data": {
      "image/png": "[encoded data removed]",
      "text/plain": [
       "<Figure size 800x600 with 1 Axes>"
      ]
     },
     "metadata": {},
     "output_type": "display_data"
    },
    {
     "name": "stdout",
     "output_type": "stream",
     "text": [
      "\n",
      "Unique values and their frequencies for Leaf Surface Area :\n",
      "Low         53\n",
      "High        19\n",
      "Moderate    14\n",
      "Name: Leaf Surface Area, dtype: int64\n"
     ]
    },
    {
     "data": {
      "image/png": "[encoded data removed]",
      "text/plain": [
       "<Figure size 800x600 with 1 Axes>"
      ]
     },
     "metadata": {},
     "output_type": "display_data"
    },
    {
     "name": "stdout",
     "output_type": "stream",
     "text": [
      "\n",
      "Unique values and their frequencies for Leaf Structure :\n",
      "Thin        75\n",
      "Thick        8\n",
      "Moderate     3\n",
      "Name: Leaf Structure, dtype: int64\n"
     ]
    },
    {
     "data": {
      "image/png": "[encoded data removed]",
      "text/plain": [
       "<Figure size 800x600 with 1 Axes>"
      ]
     },
     "metadata": {},
     "output_type": "display_data"
    },
    {
     "name": "stdout",
     "output_type": "stream",
     "text": [
      "\n",
      "Unique values and their frequencies for Tolerance to Pollution :\n",
      "High        57\n",
      "Moderate    29\n",
      "Name: Tolerance to Pollution, dtype: int64\n"
     ]
    },
    {
     "data": {
      "image/png": "[encoded data removed]",
      "text/plain": [
       "<Figure size 800x600 with 1 Axes>"
      ]
     },
     "metadata": {},
     "output_type": "display_data"
    },
    {
     "name": "stdout",
     "output_type": "stream",
     "text": [
      "\n",
      "Unique values and their frequencies for Growth Rate :\n",
      "Slow        53\n",
      "Moderate    22\n",
      "Fast        11\n",
      "Name: Growth Rate, dtype: int64\n"
     ]
    },
    {
     "data": {
      "image/png": "[encoded data removed]",
      "text/plain": [
       "<Figure size 800x600 with 1 Axes>"
      ]
     },
     "metadata": {},
     "output_type": "display_data"
    }
   ],
   "source": [
    "# visualizing columns such as growth habit, leaf surface area, leaf structure, tolerance to pollution and growth rate\n",
    "categorical_cols = ['Growth Habit', 'Leaf Surface Area', 'Leaf Structure', 'Tolerance to Pollution', 'Growth Rate']\n",
    "for col in categorical_cols:\n",
    "    print(\"\\nUnique values and their frequencies for\", col, \":\")\n",
    "    print(df[col].value_counts())\n",
    "\n",
    "    # Bar plot for categorical variables\n",
    "    plt.figure(figsize=(8, 6))\n",
    "    sns.countplot(x=col, data=df)\n",
    "    plt.xticks(rotation=45)\n",
    "    plt.show()"
   ]
  },
  {
   "cell_type": "code",
   "execution_count": 49,
   "id": "f748b086",
   "metadata": {},
   "outputs": [],
   "source": [
    "# feature engineering\n",
    "# Identify the categorical columns\n",
    "categorical_cols = ['Plant', 'Growth Habit', 'Leaf Surface Area', 'Leaf Structure', 'Tolerance to Pollution', 'Growth Rate']\n",
    "\n",
    "# Label Encoding\n",
    "label_encoder = LabelEncoder()\n",
    "for col in categorical_cols:\n",
    "    df[col] = label_encoder.fit_transform(df[col])"
   ]
  },
  {
   "cell_type": "code",
   "execution_count": 50,
   "id": "11869757",
   "metadata": {},
   "outputs": [
    {
     "data": {
      "text/html": [
       "<div>\n",
       "<style scoped>\n",
       "    .dataframe tbody tr th:only-of-type {\n",
       "        vertical-align: middle;\n",
       "    }\n",
       "\n",
       "    .dataframe tbody tr th {\n",
       "        vertical-align: top;\n",
       "    }\n",
       "\n",
       "    .dataframe thead th {\n",
       "        text-align: right;\n",
       "    }\n",
       "</style>\n",
       "<table border=\"1\" class=\"dataframe\">\n",
       "  <thead>\n",
       "    <tr style=\"text-align: right;\">\n",
       "      <th></th>\n",
       "      <th>Plant</th>\n",
       "      <th>CO2 Absorption Rate</th>\n",
       "      <th>Growth Habit</th>\n",
       "      <th>Leaf Surface Area</th>\n",
       "      <th>Leaf Structure</th>\n",
       "      <th>Tolerance to Pollution</th>\n",
       "      <th>Growth Rate</th>\n",
       "    </tr>\n",
       "  </thead>\n",
       "  <tbody>\n",
       "    <tr>\n",
       "      <th>0</th>\n",
       "      <td>70</td>\n",
       "      <td>3</td>\n",
       "      <td>6</td>\n",
       "      <td>1</td>\n",
       "      <td>1</td>\n",
       "      <td>0</td>\n",
       "      <td>2</td>\n",
       "    </tr>\n",
       "    <tr>\n",
       "      <th>1</th>\n",
       "      <td>73</td>\n",
       "      <td>3</td>\n",
       "      <td>3</td>\n",
       "      <td>2</td>\n",
       "      <td>2</td>\n",
       "      <td>0</td>\n",
       "      <td>1</td>\n",
       "    </tr>\n",
       "    <tr>\n",
       "      <th>2</th>\n",
       "      <td>27</td>\n",
       "      <td>5</td>\n",
       "      <td>0</td>\n",
       "      <td>0</td>\n",
       "      <td>0</td>\n",
       "      <td>0</td>\n",
       "      <td>0</td>\n",
       "    </tr>\n",
       "    <tr>\n",
       "      <th>3</th>\n",
       "      <td>9</td>\n",
       "      <td>5</td>\n",
       "      <td>1</td>\n",
       "      <td>0</td>\n",
       "      <td>2</td>\n",
       "      <td>0</td>\n",
       "      <td>2</td>\n",
       "    </tr>\n",
       "    <tr>\n",
       "      <th>4</th>\n",
       "      <td>24</td>\n",
       "      <td>5</td>\n",
       "      <td>7</td>\n",
       "      <td>2</td>\n",
       "      <td>1</td>\n",
       "      <td>0</td>\n",
       "      <td>0</td>\n",
       "    </tr>\n",
       "    <tr>\n",
       "      <th>...</th>\n",
       "      <td>...</td>\n",
       "      <td>...</td>\n",
       "      <td>...</td>\n",
       "      <td>...</td>\n",
       "      <td>...</td>\n",
       "      <td>...</td>\n",
       "      <td>...</td>\n",
       "    </tr>\n",
       "    <tr>\n",
       "      <th>81</th>\n",
       "      <td>84</td>\n",
       "      <td>2</td>\n",
       "      <td>3</td>\n",
       "      <td>1</td>\n",
       "      <td>2</td>\n",
       "      <td>0</td>\n",
       "      <td>2</td>\n",
       "    </tr>\n",
       "    <tr>\n",
       "      <th>82</th>\n",
       "      <td>23</td>\n",
       "      <td>4</td>\n",
       "      <td>3</td>\n",
       "      <td>0</td>\n",
       "      <td>2</td>\n",
       "      <td>0</td>\n",
       "      <td>1</td>\n",
       "    </tr>\n",
       "    <tr>\n",
       "      <th>83</th>\n",
       "      <td>34</td>\n",
       "      <td>3</td>\n",
       "      <td>5</td>\n",
       "      <td>1</td>\n",
       "      <td>2</td>\n",
       "      <td>1</td>\n",
       "      <td>2</td>\n",
       "    </tr>\n",
       "    <tr>\n",
       "      <th>84</th>\n",
       "      <td>3</td>\n",
       "      <td>2</td>\n",
       "      <td>3</td>\n",
       "      <td>1</td>\n",
       "      <td>2</td>\n",
       "      <td>0</td>\n",
       "      <td>2</td>\n",
       "    </tr>\n",
       "    <tr>\n",
       "      <th>85</th>\n",
       "      <td>18</td>\n",
       "      <td>4</td>\n",
       "      <td>3</td>\n",
       "      <td>0</td>\n",
       "      <td>2</td>\n",
       "      <td>0</td>\n",
       "      <td>1</td>\n",
       "    </tr>\n",
       "  </tbody>\n",
       "</table>\n",
       "<p>86 rows × 7 columns</p>\n",
       "</div>"
      ],
      "text/plain": [
       "    Plant  CO2 Absorption Rate  Growth Habit  Leaf Surface Area  \\\n",
       "0      70                    3             6                  1   \n",
       "1      73                    3             3                  2   \n",
       "2      27                    5             0                  0   \n",
       "3       9                    5             1                  0   \n",
       "4      24                    5             7                  2   \n",
       "..    ...                  ...           ...                ...   \n",
       "81     84                    2             3                  1   \n",
       "82     23                    4             3                  0   \n",
       "83     34                    3             5                  1   \n",
       "84      3                    2             3                  1   \n",
       "85     18                    4             3                  0   \n",
       "\n",
       "    Leaf Structure  Tolerance to Pollution  Growth Rate  \n",
       "0                1                       0            2  \n",
       "1                2                       0            1  \n",
       "2                0                       0            0  \n",
       "3                2                       0            2  \n",
       "4                1                       0            0  \n",
       "..             ...                     ...          ...  \n",
       "81               2                       0            2  \n",
       "82               2                       0            1  \n",
       "83               2                       1            2  \n",
       "84               2                       0            2  \n",
       "85               2                       0            1  \n",
       "\n",
       "[86 rows x 7 columns]"
      ]
     },
     "execution_count": 50,
     "metadata": {},
     "output_type": "execute_result"
    }
   ],
   "source": [
    "df"
   ]
  },
  {
   "cell_type": "code",
   "execution_count": 51,
   "id": "2c185ddc",
   "metadata": {},
   "outputs": [],
   "source": [
    "# splitting of dataset into X and y\n",
    "X = df.drop('Growth Rate', axis=1)\n",
    "y = df['Growth Rate']"
   ]
  },
  {
   "cell_type": "code",
   "execution_count": 52,
   "id": "e5dbc6d0",
   "metadata": {},
   "outputs": [],
   "source": [
    "# splitting of dataset into train and test set\n",
    "X_train, X_test, y_train, y_test = train_test_split(X, y, test_size=0.2, random_state=42)"
   ]
  },
  {
   "cell_type": "code",
   "execution_count": 53,
   "id": "64f78820",
   "metadata": {},
   "outputs": [
    {
     "name": "stderr",
     "output_type": "stream",
     "text": [
      "100%|██████████████████████████████████████████████████████████████████████████████████| 29/29 [00:00<00:00, 39.11it/s]"
     ]
    },
    {
     "name": "stdout",
     "output_type": "stream",
     "text": [
      "                               Accuracy  Balanced Accuracy ROC AUC  F1 Score  \\\n",
      "Model                                                                          \n",
      "RandomForestClassifier             0.78               0.70    None      0.76   \n",
      "BaggingClassifier                  0.78               0.70    None      0.76   \n",
      "ExtraTreeClassifier                0.78               0.70    None      0.77   \n",
      "ExtraTreesClassifier               0.78               0.70    None      0.76   \n",
      "AdaBoostClassifier                 0.72               0.66    None      0.72   \n",
      "XGBClassifier                      0.72               0.63    None      0.69   \n",
      "DecisionTreeClassifier             0.72               0.63    None      0.70   \n",
      "LabelPropagation                   0.72               0.62    None      0.69   \n",
      "LabelSpreading                     0.72               0.62    None      0.69   \n",
      "LGBMClassifier                     0.72               0.60    None      0.63   \n",
      "Perceptron                         0.61               0.55    None      0.52   \n",
      "GaussianNB                         0.56               0.54    None      0.56   \n",
      "NearestCentroid                    0.67               0.53    None      0.58   \n",
      "BernoulliNB                        0.67               0.53    None      0.58   \n",
      "PassiveAggressiveClassifier        0.61               0.53    None      0.57   \n",
      "LinearDiscriminantAnalysis         0.61               0.51    None      0.58   \n",
      "LogisticRegression                 0.61               0.51    None      0.58   \n",
      "SGDClassifier                      0.61               0.51    None      0.58   \n",
      "LinearSVC                          0.61               0.51    None      0.59   \n",
      "SVC                                0.61               0.48    None      0.55   \n",
      "QuadraticDiscriminantAnalysis      0.44               0.46    None      0.46   \n",
      "RidgeClassifier                    0.56               0.45    None      0.51   \n",
      "RidgeClassifierCV                  0.56               0.45    None      0.51   \n",
      "KNeighborsClassifier               0.56               0.40    None      0.46   \n",
      "CalibratedClassifierCV             0.50               0.38    None      0.41   \n",
      "DummyClassifier                    0.50               0.33    None      0.33   \n",
      "\n",
      "                               Time Taken  \n",
      "Model                                      \n",
      "RandomForestClassifier               0.12  \n",
      "BaggingClassifier                    0.02  \n",
      "ExtraTreeClassifier                  0.01  \n",
      "ExtraTreesClassifier                 0.07  \n",
      "AdaBoostClassifier                   0.07  \n",
      "XGBClassifier                        0.06  \n",
      "DecisionTreeClassifier               0.01  \n",
      "LabelPropagation                     0.02  \n",
      "LabelSpreading                       0.01  \n",
      "LGBMClassifier                       0.03  \n",
      "Perceptron                           0.02  \n",
      "GaussianNB                           0.01  \n",
      "NearestCentroid                      0.02  \n",
      "BernoulliNB                          0.02  \n",
      "PassiveAggressiveClassifier          0.00  \n",
      "LinearDiscriminantAnalysis           0.03  \n",
      "LogisticRegression                   0.02  \n",
      "SGDClassifier                        0.02  \n",
      "LinearSVC                            0.02  \n",
      "SVC                                  0.01  \n",
      "QuadraticDiscriminantAnalysis        0.05  \n",
      "RidgeClassifier                      0.02  \n",
      "RidgeClassifierCV                    0.02  \n",
      "KNeighborsClassifier                 0.01  \n",
      "CalibratedClassifierCV               0.05  \n",
      "DummyClassifier                      0.01  \n"
     ]
    },
    {
     "name": "stderr",
     "output_type": "stream",
     "text": [
      "\n"
     ]
    }
   ],
   "source": [
    "# Create and train the LazyClassifier\n",
    "clf = LazyClassifier(verbose=0, ignore_warnings=True, custom_metric=None)\n",
    "models, predictions = clf.fit(X_train, X_test, y_train, y_test)\n",
    "\n",
    "# Print the model performance summary\n",
    "print(models)"
   ]
  },
  {
   "cell_type": "code",
   "execution_count": 60,
   "id": "9a4cf483",
   "metadata": {},
   "outputs": [
    {
     "name": "stdout",
     "output_type": "stream",
     "text": [
      "Random Forest Classifier:\n",
      "[[2 1 1]\n",
      " [1 3 1]\n",
      " [0 0 9]]\n",
      "              precision    recall  f1-score   support\n",
      "\n",
      "           0       0.67      0.50      0.57         4\n",
      "           1       0.75      0.60      0.67         5\n",
      "           2       0.82      1.00      0.90         9\n",
      "\n",
      "    accuracy                           0.78        18\n",
      "   macro avg       0.74      0.70      0.71        18\n",
      "weighted avg       0.77      0.78      0.76        18\n",
      "\n",
      "Bagging Classifier:\n",
      "[[2 1 1]\n",
      " [0 3 2]\n",
      " [0 0 9]]\n",
      "              precision    recall  f1-score   support\n",
      "\n",
      "           0       1.00      0.50      0.67         4\n",
      "           1       0.75      0.60      0.67         5\n",
      "           2       0.75      1.00      0.86         9\n",
      "\n",
      "    accuracy                           0.78        18\n",
      "   macro avg       0.83      0.70      0.73        18\n",
      "weighted avg       0.81      0.78      0.76        18\n",
      "\n",
      "Extra Tree Classifier:\n",
      "[[2 1 1]\n",
      " [1 3 1]\n",
      " [1 0 8]]\n",
      "              precision    recall  f1-score   support\n",
      "\n",
      "           0       0.50      0.50      0.50         4\n",
      "           1       0.75      0.60      0.67         5\n",
      "           2       0.80      0.89      0.84         9\n",
      "\n",
      "    accuracy                           0.72        18\n",
      "   macro avg       0.68      0.66      0.67        18\n",
      "weighted avg       0.72      0.72      0.72        18\n",
      "\n",
      "Extra Trees Classifier:\n",
      "[[2 2 0]\n",
      " [1 3 1]\n",
      " [0 0 9]]\n",
      "              precision    recall  f1-score   support\n",
      "\n",
      "           0       0.67      0.50      0.57         4\n",
      "           1       0.60      0.60      0.60         5\n",
      "           2       0.90      1.00      0.95         9\n",
      "\n",
      "    accuracy                           0.78        18\n",
      "   macro avg       0.72      0.70      0.71        18\n",
      "weighted avg       0.76      0.78      0.77        18\n",
      "\n"
     ]
    }
   ],
   "source": [
    "# fitting the training set into top 4 classifiers: randomforest, bagging, extratree and extratrees\n",
    "rf_model = RandomForestClassifier()\n",
    "rf_model.fit(X_train, y_train)\n",
    "\n",
    "bagging_model = BaggingClassifier()\n",
    "bagging_model.fit(X_train, y_train)\n",
    "\n",
    "extra_tree_model = ExtraTreeClassifier()\n",
    "extra_tree_model.fit(X_train, y_train)\n",
    "\n",
    "extra_trees_model = ExtraTreesClassifier()\n",
    "extra_trees_model.fit(X_train, y_train)\n",
    "\n",
    "rf_y_pred = rf_model.predict(X_test)\n",
    "bagging_y_pred = bagging_model.predict(X_test)\n",
    "extra_tree_y_pred = extra_tree_model.predict(X_test)\n",
    "extra_trees_y_pred = extra_trees_model.predict(X_test)\n",
    "\n",
    "# checking confusion matrix and classification report of all 4 classifiers\n",
    "print(\"Random Forest Classifier:\")\n",
    "rf_cm = confusion_matrix(y_test, rf_y_pred)\n",
    "print(rf_cm)\n",
    "print(classification_report(y_test, rf_y_pred))\n",
    "\n",
    "print(\"Bagging Classifier:\")\n",
    "bagging_cm = confusion_matrix(y_test, bagging_y_pred)\n",
    "print(bagging_cm)\n",
    "print(classification_report(y_test, bagging_y_pred))\n",
    "\n",
    "print(\"Extra Tree Classifier:\")\n",
    "extra_tree_cm = confusion_matrix(y_test, extra_tree_y_pred)\n",
    "print(extra_tree_cm)\n",
    "print(classification_report(y_test, extra_tree_y_pred))\n",
    "\n",
    "print(\"Extra Trees Classifier:\")\n",
    "extra_trees_cm = confusion_matrix(y_test, extra_trees_y_pred)\n",
    "print(extra_trees_cm)\n",
    "print(classification_report(y_test, extra_trees_y_pred))"
   ]
  },
  {
   "cell_type": "code",
   "execution_count": 62,
   "id": "11729e99",
   "metadata": {},
   "outputs": [
    {
     "data": {
      "image/png": "[encoded data removed]",
      "text/plain": [
       "<Figure size 1200x400 with 4 Axes>"
      ]
     },
     "metadata": {},
     "output_type": "display_data"
    }
   ],
   "source": [
    "# visualizing confusion matrix of all 4 top classifiers\n",
    "plt.figure(figsize=(12, 4))\n",
    "\n",
    "plt.subplot(141)\n",
    "sns.heatmap(rf_cm, annot=True, cmap='Blues', fmt='d', cbar=False)\n",
    "plt.title('Random Forest Classifier')\n",
    "plt.xlabel('Predicted')\n",
    "plt.ylabel('True')\n",
    "\n",
    "plt.subplot(142)\n",
    "sns.heatmap(bagging_cm, annot=True, cmap='Blues', fmt='d', cbar=False)\n",
    "plt.title('Bagging Classifier')\n",
    "plt.xlabel('Predicted')\n",
    "plt.ylabel('True')\n",
    "\n",
    "plt.subplot(143)\n",
    "sns.heatmap(extra_tree_cm, annot=True, cmap='Blues', fmt='d', cbar=False)\n",
    "plt.title('Extra Tree Classifier')\n",
    "plt.xlabel('Predicted')\n",
    "plt.ylabel('True')\n",
    "\n",
    "plt.subplot(144)\n",
    "sns.heatmap(extra_trees_cm, annot=True, cmap='Blues', fmt='d', cbar=False)\n",
    "plt.title('Extra Trees Classifier')\n",
    "plt.xlabel('Predicted')\n",
    "plt.ylabel('True')\n",
    "\n",
    "plt.show()"
   ]
  },
  {
   "cell_type": "code",
   "execution_count": 58,
   "id": "dcc10658",
   "metadata": {},
   "outputs": [
    {
     "name": "stdout",
     "output_type": "stream",
     "text": [
      "Random Forest Classifier Accuracy: 0.7659\n",
      "Bagging Classifier Accuracy: 0.7934\n",
      "Extra Tree Classifier Accuracy: 0.7813\n",
      "Extra Trees Classifier Accuracy: 0.7813\n",
      "Best Model: BaggingClassifier\n",
      "Test Accuracy: 0.7778\n"
     ]
    }
   ],
   "source": [
    "# determining the best out of 4 classifiers\n",
    "models = [\n",
    "    ('Random Forest Classifier', rf_model),\n",
    "    ('Bagging Classifier', bagging_model),\n",
    "    ('Extra Tree Classifier', extra_tree_model),\n",
    "    ('Extra Trees Classifier', extra_trees_model)\n",
    "]\n",
    "\n",
    "best_model = None\n",
    "best_accuracy = 0.0\n",
    "\n",
    "for model_name, model in models:\n",
    "    # Perform cross-validation and compute accuracy\n",
    "    scores = cross_val_score(model, X_train, y_train, cv=5)\n",
    "    accuracy = scores.mean()\n",
    "\n",
    "    # Print the accuracy for the current model\n",
    "    print(f\"{model_name} Accuracy: {accuracy:.4f}\")\n",
    "\n",
    "    # Update the best model if the current model has higher accuracy\n",
    "    if accuracy > best_accuracy:\n",
    "        best_accuracy = accuracy\n",
    "        best_model = model\n",
    "\n",
    "# Step 6: Fit the best model on the full training set and evaluate on the test set\n",
    "best_model.fit(X_train, y_train)\n",
    "test_accuracy = best_model.score(X_test, y_test)\n",
    "print(f\"Best Model: {type(best_model).__name__}\")\n",
    "print(f\"Test Accuracy: {test_accuracy:.4f}\")"
   ]
  },
  {
   "cell_type": "code",
   "execution_count": 69,
   "id": "891acafe",
   "metadata": {},
   "outputs": [
    {
     "name": "stdout",
     "output_type": "stream",
     "text": [
      "Predicted Growth Rate for 70: 2\n"
     ]
    }
   ],
   "source": [
    "# Fit the best model on the full dataset\n",
    "best_model.fit(X, y)\n",
    "\n",
    "# Get the input values for predicting the growth rate\n",
    "new_plant = 70\n",
    "new_co2_absorption_rate = 3\n",
    "new_growth_habit = 6\n",
    "new_leaf_surface_area = 1\n",
    "new_leaf_structure = 1\n",
    "new_tolerance_to_pollution = 0\n",
    "\n",
    "# Create a DataFrame for the new input data\n",
    "new_data = pd.DataFrame({\n",
    "    'Plant': [new_plant],\n",
    "    'CO2 Absorption Rate': [new_co2_absorption_rate],\n",
    "    'Growth Habit': [new_growth_habit],\n",
    "    'Leaf Surface Area': [new_leaf_surface_area],\n",
    "    'Leaf Structure': [new_leaf_structure],\n",
    "    'Tolerance to Pollution': [new_tolerance_to_pollution]\n",
    "})\n",
    "\n",
    "# Perform any necessary preprocessing on the new data (e.g., encoding categorical variables)\n",
    "\n",
    "# Make predictions using the best model\n",
    "predictions = best_model.predict(new_data)\n",
    "\n",
    "# Print the predicted growth rate\n",
    "print(f\"Predicted Growth Rate for {new_plant}: {predictions[0]}\")"
   ]
  },
  {
   "cell_type": "code",
   "execution_count": 70,
   "id": "42fd51d9",
   "metadata": {},
   "outputs": [
    {
     "name": "stdout",
     "output_type": "stream",
     "text": [
      "Predicted Growth Rate for 73: 0\n"
     ]
    }
   ],
   "source": [
    "# Get the input values for predicting the growth rate\n",
    "new_plant = 73\n",
    "new_co2_absorption_rate = 8\n",
    "new_growth_habit = 5\n",
    "new_leaf_surface_area = 0\n",
    "new_leaf_structure = 0\n",
    "new_tolerance_to_pollution = 1\n",
    "\n",
    "# Create a DataFrame for the new input data\n",
    "new_data = pd.DataFrame({\n",
    "    'Plant': [new_plant],\n",
    "    'CO2 Absorption Rate': [new_co2_absorption_rate],\n",
    "    'Growth Habit': [new_growth_habit],\n",
    "    'Leaf Surface Area': [new_leaf_surface_area],\n",
    "    'Leaf Structure': [new_leaf_structure],\n",
    "    'Tolerance to Pollution': [new_tolerance_to_pollution]\n",
    "})\n",
    "\n",
    "# Perform any necessary preprocessing on the new data (e.g., encoding categorical variables)\n",
    "\n",
    "# Make predictions using the best model\n",
    "predictions = best_model.predict(new_data)\n",
    "\n",
    "# Print the predicted growth rate\n",
    "print(f\"Predicted Growth Rate for {new_plant}: {predictions[0]}\")"
   ]
  },
  {
   "cell_type": "code",
   "execution_count": 73,
   "id": "bf18e1a8",
   "metadata": {},
   "outputs": [
    {
     "name": "stdout",
     "output_type": "stream",
     "text": [
      "Predicted Growth Rate for 18: 1\n"
     ]
    }
   ],
   "source": [
    "# Get the input values for predicting the growth rate\n",
    "new_plant = 18\n",
    "new_co2_absorption_rate = 4\n",
    "new_growth_habit = 3\n",
    "new_leaf_surface_area = 0\n",
    "new_leaf_structure = 2\n",
    "new_tolerance_to_pollution = 0\n",
    "\n",
    "# Create a DataFrame for the new input data\n",
    "new_data = pd.DataFrame({\n",
    "    'Plant': [new_plant],\n",
    "    'CO2 Absorption Rate': [new_co2_absorption_rate],\n",
    "    'Growth Habit': [new_growth_habit],\n",
    "    'Leaf Surface Area': [new_leaf_surface_area],\n",
    "    'Leaf Structure': [new_leaf_structure],\n",
    "    'Tolerance to Pollution': [new_tolerance_to_pollution]\n",
    "})\n",
    "\n",
    "# Perform any necessary preprocessing on the new data (e.g., encoding categorical variables)\n",
    "\n",
    "# Make predictions using the best model\n",
    "predictions = best_model.predict(new_data)\n",
    "\n",
    "# Print the predicted growth rate\n",
    "print(f\"Predicted Growth Rate for {new_plant}: {predictions[0]}\")"
   ]
  }
 ],
 "metadata": {
  "kernelspec": {
   "display_name": "Python 3 (ipykernel)",
   "language": "python",
   "name": "python3"
  },
  "language_info": {
   "codemirror_mode": {
    "name": "ipython",
    "version": 3
   },
   "file_extension": ".py",
   "mimetype": "text/x-python",
   "name": "python",
   "nbconvert_exporter": "python",
   "pygments_lexer": "ipython3",
   "version": "3.9.13"
  }
 },
 "nbformat": 4,
 "nbformat_minor": 5
}
